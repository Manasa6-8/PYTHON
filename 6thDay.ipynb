{
 "cells": [
  {
   "cell_type": "code",
   "execution_count": 3,
   "id": "c6d78f04-4226-4ee4-9c85-637f91e4acb0",
   "metadata": {},
   "outputs": [
    {
     "name": "stdout",
     "output_type": "stream",
     "text": [
      "   Age  Salary  Purchased\n",
      "0   19   20000          0\n",
      "1   26  190000          0\n",
      "2   21  160000          1\n",
      "3   45   25000          1\n",
      "4   28  340000          0\n",
      "   Age  Salary  Purchased\n",
      "0   19   20000          0\n",
      "1   26  190000          0\n"
     ]
    }
   ],
   "source": [
    "import pandas as pd\n",
    "df=pd.read_csv(r\"C:\\Users\\Manasa\\Desktop\\NLP-projects\\file.csv\" )\n",
    "print(df.head())\n",
    "print(df.head(2))"
   ]
  },
  {
   "cell_type": "code",
   "execution_count": 5,
   "id": "48c97ed8-1509-4969-9655-5bebd0e7421e",
   "metadata": {},
   "outputs": [
    {
     "name": "stderr",
     "output_type": "stream",
     "text": [
      "C:\\Users\\Manasa\\AppData\\Local\\Temp\\ipykernel_10048\\243012802.py:4: UserWarning: No data for colormapping provided via 'c'. Parameters 'cmap' will be ignored\n",
      "  plt.scatter(df['Age'],df['Purchased'],cmap='bwr',label='Purchased')\n"
     ]
    },
    {
     "data": {
      "image/png": "[encoded data removed]",
      "text/plain": [
       "<Figure size 500x400 with 1 Axes>"
      ]
     },
     "metadata": {},
     "output_type": "display_data"
    }
   ],
   "source": [
    "import matplotlib.pyplot as plt\n",
    "#scatter plot for age and purchased\n",
    "plt.figure(figsize=(5,4))\n",
    "plt.scatter(df['Age'],df['Purchased'],cmap='bwr',label='Purchased')\n",
    "plt.xlabel('Age')\n",
    "plt.ylabel('Purchased')\n",
    "plt.title(\"Graph Project\")\n",
    "plt.legend(['No purchased','Purchased'], loc='lower left')\n",
    "plt.grid(True)\n",
    "plt.show()"
   ]
  },
  {
   "cell_type": "code",
   "execution_count": 6,
   "id": "6bbeb8f3-e17f-46fc-bca9-6215e9e7e978",
   "metadata": {},
   "outputs": [
    {
     "name": "stdout",
     "output_type": "stream",
     "text": [
      "Prediction for age90:will purchased \n",
      "[[0.0193494 0.9806506]]\n"
     ]
    },
    {
     "name": "stderr",
     "output_type": "stream",
     "text": [
      "C:\\Users\\Manasa\\anaconda\\Lib\\site-packages\\sklearn\\utils\\validation.py:1339: DataConversionWarning: A column-vector y was passed when a 1d array was expected. Please change the shape of y to (n_samples, ), for example using ravel().\n",
      "  y = column_or_1d(y, warn=True)\n",
      "C:\\Users\\Manasa\\anaconda\\Lib\\site-packages\\sklearn\\base.py:493: UserWarning: X does not have valid feature names, but LogisticRegression was fitted with feature names\n",
      "  warnings.warn(\n",
      "C:\\Users\\Manasa\\anaconda\\Lib\\site-packages\\sklearn\\base.py:493: UserWarning: X does not have valid feature names, but LogisticRegression was fitted with feature names\n",
      "  warnings.warn(\n"
     ]
    }
   ],
   "source": [
    "from sklearn.linear_model import LogisticRegression\n",
    "from sklearn.model_selection import train_test_split\n",
    "#features and target variable\n",
    "x=df[['Age']]\n",
    "y=df[['Purchased']]\n",
    "\n",
    "#spliting the data\n",
    "x_train,x_test,y_train,y_test=train_test_split(x,y,test_size=0.2,random_state=42)\n",
    "model=LogisticRegression()\n",
    "model.fit(x_train,y_train)\n",
    "new_age=[[90]]\n",
    "prediction=model.predict(new_age)\n",
    "probability=model.predict_proba(new_age)\n",
    "print(f\"Prediction for age{new_age[0][0]}:{'will purchased' if prediction[0]==1 else 'will not purchase'} \")\n",
    "print(probability)"
   ]
  },
  {
   "cell_type": "code",
   "execution_count": 71,
   "id": "047c2f9b-d275-4ca8-b064-d5b2a692441a",
   "metadata": {},
   "outputs": [],
   "source": [
    "#import pandas as pd\n",
    "#df=pd.read_csv(r'C:\\Users\\Manasa\\Desktop\\NLP-projects\\sem.csv')\n",
    "#print(df.head())'''"
   ]
  },
  {
   "cell_type": "code",
   "execution_count": null,
   "id": "21ff8fcd-7330-4e92-8e93-7c8189d9e3ff",
   "metadata": {},
   "outputs": [],
   "source": []
  },
  {
   "cell_type": "code",
   "execution_count": null,
   "id": "87f8b31f-3487-4b7f-99b4-8992e145894a",
   "metadata": {},
   "outputs": [],
   "source": []
  },
  {
   "cell_type": "code",
   "execution_count": null,
   "id": "eca4aef1-5b24-4512-9172-d79951184ece",
   "metadata": {},
   "outputs": [],
   "source": []
  }
 ],
 "metadata": {
  "kernelspec": {
   "display_name": "Python [conda env:base] *",
   "language": "python",
   "name": "conda-base-py"
  },
  "language_info": {
   "codemirror_mode": {
    "name": "ipython",
    "version": 3
   },
   "file_extension": ".py",
   "mimetype": "text/x-python",
   "name": "python",
   "nbconvert_exporter": "python",
   "pygments_lexer": "ipython3",
   "version": "3.12.7"
  }
 },
 "nbformat": 4,
 "nbformat_minor": 5
}
