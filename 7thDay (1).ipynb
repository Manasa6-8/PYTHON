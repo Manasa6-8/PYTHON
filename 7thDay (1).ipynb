{
 "cells": [
  {
   "cell_type": "code",
   "execution_count": 7,
   "id": "ac221f24-e9e6-4c74-bbf6-172d05ecbb8f",
   "metadata": {},
   "outputs": [
    {
     "ename": "AttributeError",
     "evalue": "module 'speech_recognition' has no attribute 'UnkownValueError'",
     "output_type": "error",
     "traceback": [
      "\u001b[1;31m---------------------------------------------------------------------------\u001b[0m",
      "\u001b[1;31mAttributeError\u001b[0m                            Traceback (most recent call last)",
      "Cell \u001b[1;32mIn[7], line 13\u001b[0m, in \u001b[0;36mlisten\u001b[1;34m()\u001b[0m\n\u001b[0;32m     12\u001b[0m audio\u001b[38;5;241m=\u001b[39mrec\u001b[38;5;241m.\u001b[39mlisten(source)\n\u001b[1;32m---> 13\u001b[0m com\u001b[38;5;241m=\u001b[39mrec\u001b[38;5;241m.\u001b[39mRecognize_google(auido)\n\u001b[0;32m     14\u001b[0m \u001b[38;5;28;01mreturn\u001b[39;00m com\u001b[38;5;241m.\u001b[39mlower()\n",
      "\u001b[1;31mAttributeError\u001b[0m: 'Recognizer' object has no attribute 'Recognize_google'",
      "\nDuring handling of the above exception, another exception occurred:\n",
      "\u001b[1;31mAttributeError\u001b[0m                            Traceback (most recent call last)",
      "Cell \u001b[1;32mIn[7], line 31\u001b[0m\n\u001b[0;32m     29\u001b[0m             speak(\u001b[38;5;124m\"\u001b[39m\u001b[38;5;124msorry,unable to understand\u001b[39m\u001b[38;5;124m\"\u001b[39m)\n\u001b[0;32m     30\u001b[0m \u001b[38;5;28;01mif\u001b[39;00m \u001b[38;5;18m__name__\u001b[39m \u001b[38;5;241m==\u001b[39m\u001b[38;5;124m\"\u001b[39m\u001b[38;5;124m__main__\u001b[39m\u001b[38;5;124m\"\u001b[39m :\n\u001b[1;32m---> 31\u001b[0m     main()\n",
      "Cell \u001b[1;32mIn[7], line 21\u001b[0m, in \u001b[0;36mmain\u001b[1;34m()\u001b[0m\n\u001b[0;32m     19\u001b[0m speak(\u001b[38;5;124m\"\u001b[39m\u001b[38;5;124mhello I am your simple bot from bot world\u001b[39m\u001b[38;5;124m\"\u001b[39m)\n\u001b[0;32m     20\u001b[0m \u001b[38;5;28;01mwhile\u001b[39;00m \u001b[38;5;28;01mTrue\u001b[39;00m:\n\u001b[1;32m---> 21\u001b[0m     com\u001b[38;5;241m=\u001b[39mlisten()\n\u001b[0;32m     22\u001b[0m     \u001b[38;5;28;01mif\u001b[39;00m \u001b[38;5;124m\"\u001b[39m\u001b[38;5;124mhello\u001b[39m\u001b[38;5;124m\"\u001b[39m \u001b[38;5;129;01min\u001b[39;00m com:\n\u001b[0;32m     23\u001b[0m         speak(\u001b[38;5;124m\"\u001b[39m\u001b[38;5;124mhi there wlcom to bot world\u001b[39m\u001b[38;5;124m\"\u001b[39m)\n",
      "Cell \u001b[1;32mIn[7], line 15\u001b[0m, in \u001b[0;36mlisten\u001b[1;34m()\u001b[0m\n\u001b[0;32m     13\u001b[0m     com\u001b[38;5;241m=\u001b[39mrec\u001b[38;5;241m.\u001b[39mRecognize_google(auido)\n\u001b[0;32m     14\u001b[0m     \u001b[38;5;28;01mreturn\u001b[39;00m com\u001b[38;5;241m.\u001b[39mlower()\n\u001b[1;32m---> 15\u001b[0m \u001b[38;5;28;01mexcept\u001b[39;00m sr\u001b[38;5;241m.\u001b[39mUnkownValueError:\n\u001b[0;32m     16\u001b[0m     speak(\u001b[38;5;124m\"\u001b[39m\u001b[38;5;124mSorry unable to understand\u001b[39m\u001b[38;5;124m\"\u001b[39m)\n\u001b[0;32m     17\u001b[0m     \u001b[38;5;28;01mreturn\u001b[39;00m \u001b[38;5;124m\"\u001b[39m\u001b[38;5;124m\"\u001b[39m\n",
      "\u001b[1;31mAttributeError\u001b[0m: module 'speech_recognition' has no attribute 'UnkownValueError'"
     ]
    }
   ],
   "source": [
    "import pyttsx3\n",
    "import speech_recognition as sr\n",
    "engine=pyttsx3.init()\n",
    "def speak(text):\n",
    "    engine.say(text)\n",
    "    engine.runAndWait()\n",
    "def listen():\n",
    "    rec=sr.Recognizer()\n",
    "    with sr.Microphone() as source:\n",
    "        speak(\"I am listening\")\n",
    "        try:\n",
    "            audio=rec.listen(source)\n",
    "            com=rec.Recognize_google(auido)\n",
    "            return com.lower()\n",
    "        except sr.UnkownValueError:\n",
    "            speak(\"Sorry unable to understand\")\n",
    "            return \"\"\n",
    "def main():\n",
    "    speak(\"hello I am your simple bot from bot world\")\n",
    "    while True:\n",
    "        com=listen()\n",
    "        if \"hello\" in com:\n",
    "            speak(\"hi there wlcom to bot world\")\n",
    "        elif \"what's your name\" in com or \"what is your name\" in com:\n",
    "            speak(\"My name is simple bot from bot world\")\n",
    "        elif \"goodbye\" in com:\n",
    "            speak(\"bye!,Have a great day\")\n",
    "        else:\n",
    "            speak(\"sorry,unable to understand\")\n",
    "if __name__ ==\"__main__\" :\n",
    "    main()   "
   ]
  },
  {
   "cell_type": "code",
   "execution_count": null,
   "id": "900ca450-b88e-45cd-9289-ab0e4c5ef7e1",
   "metadata": {},
   "outputs": [],
   "source": [
    "import pyttsx3\n",
    "import speech_recognition as sr\n",
    "\n",
    "engine = pyttsx3.init()\n",
    "\n",
    "def speak(text):\n",
    "    engine.say(text)\n",
    "    engine.runAndWait()\n",
    "\n",
    "def listen():\n",
    "    rec = sr.Recognizer()\n",
    "    with sr.Microphone() as source:\n",
    "        speak(\"I am listening\")\n",
    "        try:\n",
    "            audio = rec.listen(source)\n",
    "            com = rec.recognize_google(audio)  # Fixed typo\n",
    "            return com.lower()\n",
    "        except sr.UnknownValueError:  # Corrected the spelling\n",
    "            speak(\"Sorry, I was unable to understand.\")\n",
    "            return \"\"\n",
    "        except sr.RequestError:\n",
    "            speak(\"There seems to be an issue with the service.\")\n",
    "            return \"\"\n",
    "\n",
    "def main():\n",
    "    speak(\"Hello, I am your simple bot from bot world.\")\n",
    "    while True:\n",
    "        com = listen()\n",
    "        if \"hello\" in com:\n",
    "            speak(\"Hi there! Welcome to bot world.\")\n",
    "        elif \"what's your name\" in com or \"what is your name\" in com:\n",
    "            speak(\"My name is Simple Bot from bot world.\")\n",
    "        elif \"goodbye\" in com:\n",
    "            speak(\"Goodbye! Have a great day.\")\n",
    "            break\n",
    "        else:\n",
    "            speak(\"Sorry, I am unable to understand.\")\n",
    "\n",
    "if __name__ == \"__main__\":\n",
    "    main()\n"
   ]
  },
  {
   "cell_type": "code",
   "execution_count": null,
   "id": "10a04b67-7350-42f7-94c4-c03aa10cfe88",
   "metadata": {},
   "outputs": [],
   "source": []
  }
 ],
 "metadata": {
  "kernelspec": {
   "display_name": "Python [conda env:base] *",
   "language": "python",
   "name": "conda-base-py"
  },
  "language_info": {
   "codemirror_mode": {
    "name": "ipython",
    "version": 3
   },
   "file_extension": ".py",
   "mimetype": "text/x-python",
   "name": "python",
   "nbconvert_exporter": "python",
   "pygments_lexer": "ipython3",
   "version": "3.12.7"
  }
 },
 "nbformat": 4,
 "nbformat_minor": 5
}
