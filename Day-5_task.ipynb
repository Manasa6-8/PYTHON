{
 "cells": [
  {
   "cell_type": "code",
   "execution_count": null,
   "id": "7539e5c3-8567-4b06-b5b1-8b8b03a88e3f",
   "metadata": {},
   "outputs": [],
   "source": []
  }
 ],
 "metadata": {
  "kernelspec": {
   "display_name": "",
   "name": ""
  },
  "language_info": {
   "name": ""
  }
 },
 "nbformat": 4,
 "nbformat_minor": 5
}
