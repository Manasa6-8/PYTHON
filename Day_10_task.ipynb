{
 "cells": [
  {
   "cell_type": "code",
   "execution_count": 1,
   "id": "0520299d-3953-4500-a293-97054899ec02",
   "metadata": {},
   "outputs": [
    {
     "ename": "TypeError",
     "evalue": "'str' object is not callable",
     "output_type": "error",
     "traceback": [
      "\u001b[1;31m---------------------------------------------------------------------------\u001b[0m",
      "\u001b[1;31mTypeError\u001b[0m                                 Traceback (most recent call last)",
      "Cell \u001b[1;32mIn[1], line 3\u001b[0m\n\u001b[0;32m      1\u001b[0m \u001b[38;5;66;03m#Write a Python function using regular expressions to extract all email addresses from a given string.Test it with the input: 'Contact us at support@example.com and sales@example.org.'\u001b[39;00m\n\u001b[0;32m      2\u001b[0m text\u001b[38;5;241m=\u001b[39m\u001b[38;5;124m'\u001b[39m\u001b[38;5;124mContact us at support@example.com and sales@example.org.\u001b[39m\u001b[38;5;124m'\u001b[39m\n\u001b[1;32m----> 3\u001b[0m ext\u001b[38;5;241m=\u001b[39mtext(\u001b[38;5;124mr\u001b[39m\u001b[38;5;124m'\u001b[39m\u001b[38;5;124m[a-zAA-Z0-9@a-z.com]\u001b[39m\u001b[38;5;124m'\u001b[39m,\u001b[38;5;124m\"\u001b[39m\u001b[38;5;124m \u001b[39m\u001b[38;5;124m\"\u001b[39m,text)\n\u001b[0;32m      4\u001b[0m \u001b[38;5;28mprint\u001b[39m(ext)\n",
      "\u001b[1;31mTypeError\u001b[0m: 'str' object is not callable"
     ]
    }
   ],
   "source": [
    "#Write a Python function using regular expressions to extract all email addresses from a given string.Test it with the input: 'Contact us at support@example.com and sales@example.org.'\n",
    "import re\n",
    "\n",
    "def extract_emails(text):   \n",
    "    email_pattern = r'[a-zA-Z0-9._%+-]+@[a-zA-Z0-9.-]+\\.[a-zA-Z]{2,}'\n",
    "    \n",
    "    emails = re.findall(email_pattern, text)\n",
    "    return emails\n",
    "\n",
    "\n",
    "text = \"Contact us at support@example.com and sales@example.org.\"\n",
    "result = extract_emails(text)\n",
    "print(result)\n"
   ]
  },
  {
   "cell_type": "code",
   "execution_count": null,
   "id": "27c3c4b0-a634-4373-af2b-5b96cd590ff3",
   "metadata": {},
   "outputs": [],
   "source": []
  }
 ],
 "metadata": {
  "kernelspec": {
   "display_name": "Python [conda env:base] *",
   "language": "python",
   "name": "conda-base-py"
  },
  "language_info": {
   "codemirror_mode": {
    "name": "ipython",
    "version": 3
   },
   "file_extension": ".py",
   "mimetype": "text/x-python",
   "name": "python",
   "nbconvert_exporter": "python",
   "pygments_lexer": "ipython3",
   "version": "3.12.7"
  }
 },
 "nbformat": 4,
 "nbformat_minor": 5
}
