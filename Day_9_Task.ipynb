{
 "cells": [
  {
   "cell_type": "code",
   "execution_count": 7,
   "id": "b3d392e3-793a-479b-ad1d-a0f991e2b609",
   "metadata": {},
   "outputs": [
    {
     "name": "stdout",
     "output_type": "stream",
     "text": [
      "       w      w                  \n"
     ]
    }
   ],
   "source": [
    "#Write a Python function to clean a given text by removing special characters and converting it to lowercase. Test it with the input: 'Hello, World! Welcome to NLP 101.'\n",
    "import nltk\n",
    "import re\n",
    "text=\"Hello, World! Welcome to NLP 101.\"\n",
    "clean=re.sub(r'[^a-zA-Z]',\" \",text)\n",
    "s=clean.lower()\n",
    "print(s)"
   ]
  },
  {
   "cell_type": "code",
   "execution_count": null,
   "id": "2a439298-1094-4336-a8e3-85cbeac033b6",
   "metadata": {},
   "outputs": [],
   "source": []
  }
 ],
 "metadata": {
  "kernelspec": {
   "display_name": "Python [conda env:base] *",
   "language": "python",
   "name": "conda-base-py"
  },
  "language_info": {
   "codemirror_mode": {
    "name": "ipython",
    "version": 3
   },
   "file_extension": ".py",
   "mimetype": "text/x-python",
   "name": "python",
   "nbconvert_exporter": "python",
   "pygments_lexer": "ipython3",
   "version": "3.12.7"
  }
 },
 "nbformat": 4,
 "nbformat_minor": 5
}
