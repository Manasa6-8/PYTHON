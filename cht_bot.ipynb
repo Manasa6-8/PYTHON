{
  "nbformat": 4,
  "nbformat_minor": 0,
  "metadata": {
    "colab": {
      "provenance": []
    },
    "kernelspec": {
      "name": "python3",
      "display_name": "Python 3"
    },
    "language_info": {
      "name": "python"
    }
  },
  "cells": [
    {
      "cell_type": "code",
      "execution_count": 23,
      "metadata": {
        "id": "qahAzlzTm4an",
        "colab": {
          "base_uri": "https://localhost:8080/"
        },
        "outputId": "981076d8-4ebf-4193-84e2-961c603c0ba2"
      },
      "outputs": [
        {
          "name": "stdout",
          "output_type": "stream",
          "text": [
            "test sentence\n"
          ]
        }
      ],
      "source": [
        "sentence=input()"
      ]
    },
    {
      "cell_type": "code",
      "source": [
        "sentence"
      ],
      "metadata": {
        "colab": {
          "base_uri": "https://localhost:8080/",
          "height": 35
        },
        "id": "GJ7ULfzeJ3cj",
        "outputId": "52761754-1f1d-4cee-d6b7-a6286bc9aeb8"
      },
      "execution_count": 24,
      "outputs": [
        {
          "output_type": "execute_result",
          "data": {
            "text/plain": [
              "'test sentence'"
            ],
            "application/vnd.google.colaboratory.intrinsic+json": {
              "type": "string"
            }
          },
          "metadata": {},
          "execution_count": 24
        }
      ]
    },
    {
      "cell_type": "code",
      "source": [
        "exit_words=['esc','quit','stop','exit']\n"
      ],
      "metadata": {
        "id": "bXe3jvNgIshR"
      },
      "execution_count": 25,
      "outputs": []
    },
    {
      "cell_type": "code",
      "source": [
        "def lowercase(sent):\n",
        "  return sent.lower()\n",
        "#a=lowercase(sentence)\n",
        "#print(a)"
      ],
      "metadata": {
        "id": "PGLWja4FJAbc"
      },
      "execution_count": 26,
      "outputs": []
    },
    {
      "cell_type": "code",
      "source": [
        "def uppercase(sent):\n",
        "  return sent.upper()"
      ],
      "metadata": {
        "id": "N4azSUo5LsR0"
      },
      "execution_count": 27,
      "outputs": []
    },
    {
      "cell_type": "code",
      "source": [
        "b=uppercase(sentence)\n",
        "print(b)"
      ],
      "metadata": {
        "colab": {
          "base_uri": "https://localhost:8080/"
        },
        "id": "qEYHw8rGLzwd",
        "outputId": "04cff990-b8bb-4e67-e7a8-33d0904c0602"
      },
      "execution_count": 31,
      "outputs": [
        {
          "output_type": "stream",
          "name": "stdout",
          "text": [
            "TEST SENTENCE\n"
          ]
        }
      ]
    },
    {
      "cell_type": "code",
      "source": [],
      "metadata": {
        "id": "HOLbux-LL4XM"
      },
      "execution_count": null,
      "outputs": []
    },
    {
      "cell_type": "code",
      "source": [
        "a=lowercase(sentence)\n",
        "#print(a)"
      ],
      "metadata": {
        "id": "tnMUgCR5JAfB"
      },
      "execution_count": 29,
      "outputs": []
    },
    {
      "cell_type": "code",
      "source": [
        "a"
      ],
      "metadata": {
        "colab": {
          "base_uri": "https://localhost:8080/",
          "height": 35
        },
        "id": "am15mRp0JAll",
        "outputId": "a9006815-f0fe-46c7-bfdb-a93d5963d151"
      },
      "execution_count": 30,
      "outputs": [
        {
          "output_type": "execute_result",
          "data": {
            "text/plain": [
              "'test sentence'"
            ],
            "application/vnd.google.colaboratory.intrinsic+json": {
              "type": "string"
            }
          },
          "metadata": {},
          "execution_count": 30
        }
      ]
    },
    {
      "cell_type": "code",
      "source": [
        "'''sentence=1\n",
        "str(sentence)\n",
        "x=lowercase(sentence)\n",
        "print(x)'''"
      ],
      "metadata": {
        "colab": {
          "base_uri": "https://localhost:8080/",
          "height": 35
        },
        "id": "gIjJBNMUJApM",
        "outputId": "40921dfc-104d-49c4-957a-2b8934184d7c"
      },
      "execution_count": 21,
      "outputs": [
        {
          "output_type": "execute_result",
          "data": {
            "text/plain": [
              "'sentence=1\\nstr(sentence)\\nx=lowercase(sentence)\\nprint(x)'"
            ],
            "application/vnd.google.colaboratory.intrinsic+json": {
              "type": "string"
            }
          },
          "metadata": {},
          "execution_count": 21
        }
      ]
    },
    {
      "cell_type": "code",
      "source": [
        "def conv_to_string(sent):\n",
        "  return str(sent)\n",
        "'''c=conv_to_string(sentence)\n",
        "print(c)'''"
      ],
      "metadata": {
        "colab": {
          "base_uri": "https://localhost:8080/",
          "height": 35
        },
        "id": "zaCCzXd9PWHF",
        "outputId": "bf5e853e-ac59-4f09-ce28-9081ad9cf6e2"
      },
      "execution_count": 37,
      "outputs": [
        {
          "output_type": "execute_result",
          "data": {
            "text/plain": [
              "'c=conv_to_string(sentence)\\nprint(c)'"
            ],
            "application/vnd.google.colaboratory.intrinsic+json": {
              "type": "string"
            }
          },
          "metadata": {},
          "execution_count": 37
        }
      ]
    },
    {
      "cell_type": "code",
      "source": [
        "def character_seperation(sent):\n",
        "  return list(sent)\n",
        "p=character_seperation(sentence)\n",
        "print(p)"
      ],
      "metadata": {
        "colab": {
          "base_uri": "https://localhost:8080/"
        },
        "id": "IEW626SMPWKl",
        "outputId": "2e19005b-b77c-4e4d-c341-83c3d5d9f154"
      },
      "execution_count": 41,
      "outputs": [
        {
          "output_type": "stream",
          "name": "stdout",
          "text": [
            "['t', 'e', 's', 't', ' ', 's', 'e', 'n', 't', 'e', 'n', 'c', 'e']\n"
          ]
        }
      ]
    },
    {
      "cell_type": "code",
      "source": [
        "x=input()\n",
        "while x not in exit_words:\n",
        "  choice=input(\"Give 1 to 4 options: \")\n",
        "  if choice =='1':\n",
        "    print(lowercase(x))\n",
        "  elif choice =='2':\n",
        "    print(uppercase(x))\n",
        "  elif choice =='3':\n",
        "    print(conv_to_string(x))\n",
        "  elif choice =='4':\n",
        "    print(character_seperation(x))\n",
        "  else:\n",
        "    print(\"Invalid choice\")\n",
        "  x=input()\n"
      ],
      "metadata": {
        "colab": {
          "base_uri": "https://localhost:8080/"
        },
        "id": "oFzTYlWhMpKX",
        "outputId": "ff111613-c519-424d-b7fc-692101875ac2"
      },
      "execution_count": 42,
      "outputs": [
        {
          "name": "stdout",
          "output_type": "stream",
          "text": [
            "HEll0 WORld\n",
            "Give 1 to 4 options: 1\n",
            "hell0 world\n",
            "HEllo WORld\n",
            "Give 1 to 4 options: 2\n",
            "HELLO WORLD\n",
            "020\n",
            "Give 1 to 4 options: 3\n",
            "020\n",
            "HEll0 WORld\n",
            "Give 1 to 4 options: 4\n",
            "['H', 'E', 'l', 'l', '0', ' ', 'W', 'O', 'R', 'l', 'd']\n",
            "exit\n"
          ]
        }
      ]
    },
    {
      "cell_type": "code",
      "source": [],
      "metadata": {
        "id": "F7lbvkXyMpNI"
      },
      "execution_count": null,
      "outputs": []
    },
    {
      "cell_type": "code",
      "source": [],
      "metadata": {
        "id": "3RyaODklMpQj"
      },
      "execution_count": null,
      "outputs": []
    },
    {
      "cell_type": "code",
      "source": [],
      "metadata": {
        "id": "g3Le3fGFMpX3"
      },
      "execution_count": null,
      "outputs": []
    },
    {
      "cell_type": "code",
      "source": [],
      "metadata": {
        "id": "GmiZlJmYMpbO"
      },
      "execution_count": null,
      "outputs": []
    }
  ]
}