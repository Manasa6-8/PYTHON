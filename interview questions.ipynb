{
 "cells": [
  {
   "cell_type": "code",
   "execution_count": 37,
   "id": "1dc94f39-a6c5-40f8-b649-b63eeea8d97b",
   "metadata": {},
   "outputs": [
    {
     "name": "stdin",
     "output_type": "stream",
     "text": [
      "enter any number:  13\n"
     ]
    },
    {
     "data": {
      "text/plain": [
       "13"
      ]
     },
     "execution_count": 37,
     "metadata": {},
     "output_type": "execute_result"
    }
   ],
   "source": [
    "x=int(input(\"enter any number: \"))\n",
    "x"
   ]
  },
  {
   "cell_type": "code",
   "execution_count": 39,
   "id": "cd19bc47-0ea6-4844-ad3e-fadc6ba88694",
   "metadata": {},
   "outputs": [],
   "source": [
    "factors_count=0"
   ]
  },
  {
   "cell_type": "code",
   "execution_count": 45,
   "id": "58664028-dd68-4d46-a655-ea3490b680e2",
   "metadata": {},
   "outputs": [
    {
     "name": "stdout",
     "output_type": "stream",
     "text": [
      "num is not prime\n"
     ]
    }
   ],
   "source": [
    "for i in range(1,x+1):\n",
    "    if (x%i==0):\n",
    "        factors_count=factors_count+1\n",
    "if (factors_count==2):\n",
    "            print(\"number is prime\")\n",
    "else:\n",
    "        print(\"num is not prime\")\n",
    "        "
   ]
  },
  {
   "cell_type": "code",
   "execution_count": 59,
   "id": "960fa1a4-e13b-464d-b6de-b6ab8cadd3b2",
   "metadata": {},
   "outputs": [
    {
     "name": "stdout",
     "output_type": "stream",
     "text": [
      "10\n",
      "11\n"
     ]
    }
   ],
   "source": [
    "import math\n",
    "print(math.floor(10.41))  \n",
    "print(math.ceil(10.01))   \n"
   ]
  },
  {
   "cell_type": "code",
   "execution_count": 87,
   "id": "2856012a-c3a2-4de2-b4d2-aeb23135f1d5",
   "metadata": {},
   "outputs": [
    {
     "data": {
      "text/plain": [
       "3"
      ]
     },
     "execution_count": 87,
     "metadata": {},
     "output_type": "execute_result"
    }
   ],
   "source": [
    "#frequency of the number(count)\n",
    "a=[1,2,3,4,5,1,1,3,4,0,0,8]\n",
    "a.count(1)"
   ]
  },
  {
   "cell_type": "code",
   "execution_count": 89,
   "id": "f5c9d4ba-892e-4675-9461-4776ce7f8e00",
   "metadata": {},
   "outputs": [],
   "source": [
    "d={}\n"
   ]
  },
  {
   "cell_type": "code",
   "execution_count": 91,
   "id": "40b73e6a-e2d1-4ad9-8eae-e28a672dd3fe",
   "metadata": {},
   "outputs": [
    {
     "data": {
      "text/plain": [
       "dict"
      ]
     },
     "execution_count": 91,
     "metadata": {},
     "output_type": "execute_result"
    }
   ],
   "source": [
    "type(d)"
   ]
  },
  {
   "cell_type": "code",
   "execution_count": 93,
   "id": "6cfad477-d8b2-4996-ae4c-cc5b01292919",
   "metadata": {},
   "outputs": [
    {
     "data": {
      "text/plain": [
       "['__class__',\n",
       " '__class_getitem__',\n",
       " '__contains__',\n",
       " '__delattr__',\n",
       " '__delitem__',\n",
       " '__dir__',\n",
       " '__doc__',\n",
       " '__eq__',\n",
       " '__format__',\n",
       " '__ge__',\n",
       " '__getattribute__',\n",
       " '__getitem__',\n",
       " '__getstate__',\n",
       " '__gt__',\n",
       " '__hash__',\n",
       " '__init__',\n",
       " '__init_subclass__',\n",
       " '__ior__',\n",
       " '__iter__',\n",
       " '__le__',\n",
       " '__len__',\n",
       " '__lt__',\n",
       " '__ne__',\n",
       " '__new__',\n",
       " '__or__',\n",
       " '__reduce__',\n",
       " '__reduce_ex__',\n",
       " '__repr__',\n",
       " '__reversed__',\n",
       " '__ror__',\n",
       " '__setattr__',\n",
       " '__setitem__',\n",
       " '__sizeof__',\n",
       " '__str__',\n",
       " '__subclasshook__',\n",
       " 'clear',\n",
       " 'copy',\n",
       " 'fromkeys',\n",
       " 'get',\n",
       " 'items',\n",
       " 'keys',\n",
       " 'pop',\n",
       " 'popitem',\n",
       " 'setdefault',\n",
       " 'update',\n",
       " 'values']"
      ]
     },
     "execution_count": 93,
     "metadata": {},
     "output_type": "execute_result"
    }
   ],
   "source": [
    "dir(d)"
   ]
  },
  {
   "cell_type": "code",
   "execution_count": 105,
   "id": "fb940202-c5f7-4f3f-9274-21385cab20e7",
   "metadata": {},
   "outputs": [
    {
     "ename": "NameError",
     "evalue": "name 'seen_numbers' is not defined",
     "output_type": "error",
     "traceback": [
      "\u001b[1;31m---------------------------------------------------------------------------\u001b[0m",
      "\u001b[1;31mNameError\u001b[0m                                 Traceback (most recent call last)",
      "Cell \u001b[1;32mIn[105], line 2\u001b[0m\n\u001b[0;32m      1\u001b[0m \u001b[38;5;28;01mfor\u001b[39;00m i \u001b[38;5;129;01min\u001b[39;00m a:\n\u001b[1;32m----> 2\u001b[0m     \u001b[38;5;28;01mif\u001b[39;00m i \u001b[38;5;129;01mnot\u001b[39;00m \u001b[38;5;129;01min\u001b[39;00m seen_numbers:\n\u001b[0;32m      3\u001b[0m         d[i]\u001b[38;5;241m=\u001b[39ma\u001b[38;5;241m.\u001b[39mcount(i)\n",
      "\u001b[1;31mNameError\u001b[0m: name 'seen_numbers' is not defined"
     ]
    }
   ],
   "source": [
    "for i in a:\n",
    "    if i not in seen_numbers:\n",
    "        d[i]=a.count(i)"
   ]
  },
  {
   "cell_type": "code",
   "execution_count": null,
   "id": "6938885a-31f9-4c3a-b96a-7a2e30a79973",
   "metadata": {},
   "outputs": [],
   "source": []
  }
 ],
 "metadata": {
  "kernelspec": {
   "display_name": "Python [conda env:base] *",
   "language": "python",
   "name": "conda-base-py"
  },
  "language_info": {
   "codemirror_mode": {
    "name": "ipython",
    "version": 3
   },
   "file_extension": ".py",
   "mimetype": "text/x-python",
   "name": "python",
   "nbconvert_exporter": "python",
   "pygments_lexer": "ipython3",
   "version": "3.12.7"
  }
 },
 "nbformat": 4,
 "nbformat_minor": 5
}
