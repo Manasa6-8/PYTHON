{
 "cells": [
  {
   "cell_type": "code",
   "execution_count": 1,
   "id": "b62a16f8-eec0-42e8-9209-cf0453c26036",
   "metadata": {},
   "outputs": [
    {
     "name": "stdout",
     "output_type": "stream",
     "text": [
      "Requirement already satisfied: nltk in c:\\users\\manasa\\anaconda\\lib\\site-packages (3.9.1)\n",
      "Requirement already satisfied: click in c:\\users\\manasa\\anaconda\\lib\\site-packages (from nltk) (8.1.7)\n",
      "Requirement already satisfied: joblib in c:\\users\\manasa\\anaconda\\lib\\site-packages (from nltk) (1.4.2)\n",
      "Requirement already satisfied: regex>=2021.8.3 in c:\\users\\manasa\\anaconda\\lib\\site-packages (from nltk) (2024.9.11)\n",
      "Requirement already satisfied: tqdm in c:\\users\\manasa\\anaconda\\lib\\site-packages (from nltk) (4.66.5)\n",
      "Requirement already satisfied: colorama in c:\\users\\manasa\\anaconda\\lib\\site-packages (from click->nltk) (0.4.6)\n"
     ]
    }
   ],
   "source": [
    "!pip install nltk\n"
   ]
  },
  {
   "cell_type": "code",
   "execution_count": 3,
   "id": "aa2ed292-6fe7-4a85-8098-8202d956a3f7",
   "metadata": {},
   "outputs": [],
   "source": [
    "corpus=\"\"\"Helllo welcome,to malla reddy university NLP Tutorials.\n",
    "Please don watch the entire course! to become expert in NLP\"\"\""
   ]
  },
  {
   "cell_type": "code",
   "execution_count": 5,
   "id": "a9cdccec-1382-41d4-bba6-cadc9b21bb89",
   "metadata": {},
   "outputs": [
    {
     "name": "stdout",
     "output_type": "stream",
     "text": [
      "Helllo welcome,to malla reddy university NLP Tutorials.\n",
      "Please don watch the entire course! to become expert in NLP\n"
     ]
    }
   ],
   "source": [
    "print(corpus)"
   ]
  },
  {
   "cell_type": "code",
   "execution_count": 17,
   "id": "67635368-f520-4291-b0de-3e32a4e6926b",
   "metadata": {},
   "outputs": [],
   "source": [
    "from nltk.tokenize import sent_tokenize,word_tokenize\n"
   ]
  },
  {
   "cell_type": "code",
   "execution_count": 9,
   "id": "24effa25-ea7a-4451-a121-667d419df8f1",
   "metadata": {},
   "outputs": [],
   "source": [
    "doc=sent_tokenize(corpus)"
   ]
  },
  {
   "cell_type": "code",
   "execution_count": 11,
   "id": "f1b7470c-d714-4760-a370-40cc981c2239",
   "metadata": {},
   "outputs": [
    {
     "data": {
      "text/plain": [
       "list"
      ]
     },
     "execution_count": 11,
     "metadata": {},
     "output_type": "execute_result"
    }
   ],
   "source": [
    "type(doc)"
   ]
  },
  {
   "cell_type": "code",
   "execution_count": 13,
   "id": "7f5da85e-1a77-4561-a11b-462fee21db49",
   "metadata": {},
   "outputs": [
    {
     "name": "stdout",
     "output_type": "stream",
     "text": [
      "Helllo welcome,to malla reddy university NLP Tutorials.\n",
      "Please don watch the entire course!\n",
      "to become expert in NLP\n"
     ]
    }
   ],
   "source": [
    "for sent in doc:\n",
    "    print(sent)"
   ]
  },
  {
   "cell_type": "code",
   "execution_count": 19,
   "id": "55f48905-d5b4-44eb-97eb-de3d9559c129",
   "metadata": {},
   "outputs": [],
   "source": [
    "docs=word_tokenize(corpus)"
   ]
  },
  {
   "cell_type": "code",
   "execution_count": 21,
   "id": "eee36b57-55a5-49e9-b1a9-89c1aa67f028",
   "metadata": {},
   "outputs": [
    {
     "name": "stdout",
     "output_type": "stream",
     "text": [
      "['Helllo', 'welcome', ',', 'to', 'malla', 'reddy', 'university', 'NLP', 'Tutorials', '.', 'Please', 'don', 'watch', 'the', 'entire', 'course', '!', 'to', 'become', 'expert', 'in', 'NLP']\n"
     ]
    }
   ],
   "source": [
    "print(docs)"
   ]
  },
  {
   "cell_type": "code",
   "execution_count": 23,
   "id": "ed046bb1-3bdf-4eba-a0bd-a3587cf229b0",
   "metadata": {},
   "outputs": [],
   "source": [
    "from nltk.tokenize import wordpunct_tokenize"
   ]
  },
  {
   "cell_type": "code",
   "execution_count": 25,
   "id": "d1034225-6ea7-421e-a763-f5901cce5405",
   "metadata": {},
   "outputs": [
    {
     "data": {
      "text/plain": [
       "['Helllo',\n",
       " 'welcome',\n",
       " ',',\n",
       " 'to',\n",
       " 'malla',\n",
       " 'reddy',\n",
       " 'university',\n",
       " 'NLP',\n",
       " 'Tutorials',\n",
       " '.',\n",
       " 'Please',\n",
       " 'don',\n",
       " 'watch',\n",
       " 'the',\n",
       " 'entire',\n",
       " 'course',\n",
       " '!',\n",
       " 'to',\n",
       " 'become',\n",
       " 'expert',\n",
       " 'in',\n",
       " 'NLP']"
      ]
     },
     "execution_count": 25,
     "metadata": {},
     "output_type": "execute_result"
    }
   ],
   "source": [
    "wordpunct_tokenize(corpus)"
   ]
  },
  {
   "cell_type": "code",
   "execution_count": 103,
   "id": "d8b9ed5b-9d2d-42be-bbf4-a93d6f372838",
   "metadata": {},
   "outputs": [],
   "source": [
    "#Stemming-to reduce a dimenssions(use in normal chat bot kind of things)\n",
    "words=[\"writting\",\"writes\",\"eatting\",\"sleeps\",\"helps\",\"missing\"]"
   ]
  },
  {
   "cell_type": "code",
   "execution_count": 105,
   "id": "eda08b59-7f96-4541-81fb-2c176e4d6461",
   "metadata": {},
   "outputs": [],
   "source": [
    "from nltk.stem import PorterStemmer"
   ]
  },
  {
   "cell_type": "code",
   "execution_count": 107,
   "id": "25c7e8d4-ab95-4dfb-bf5e-1039b95ebbb2",
   "metadata": {},
   "outputs": [],
   "source": [
    "stemming=PorterStemmer()"
   ]
  },
  {
   "cell_type": "code",
   "execution_count": 109,
   "id": "fdb7ed15-117a-460d-b5fe-7878b84f29b9",
   "metadata": {},
   "outputs": [
    {
     "name": "stdout",
     "output_type": "stream",
     "text": [
      "writting---->writ\n",
      "writes---->write\n",
      "eatting---->eat\n",
      "sleeps---->sleep\n",
      "helps---->help\n",
      "missing---->miss\n"
     ]
    }
   ],
   "source": [
    "for word in words:\n",
    "    print(word+'---->'+stemming.stem(word))"
   ]
  },
  {
   "cell_type": "code",
   "execution_count": 111,
   "id": "de23a68a-a0a7-47b1-b2f9-bdfa5f31a7b4",
   "metadata": {},
   "outputs": [
    {
     "data": {
      "text/plain": [
       "'congractul'"
      ]
     },
     "execution_count": 111,
     "metadata": {},
     "output_type": "execute_result"
    }
   ],
   "source": [
    "stemming.stem('congractulations')"
   ]
  },
  {
   "cell_type": "code",
   "execution_count": 113,
   "id": "af7f649e-b42a-4971-977a-b89aa943c066",
   "metadata": {},
   "outputs": [
    {
     "data": {
      "text/plain": [
       "'set'"
      ]
     },
     "execution_count": 113,
     "metadata": {},
     "output_type": "execute_result"
    }
   ],
   "source": [
    "stemming.stem(\"setting\")"
   ]
  },
  {
   "cell_type": "code",
   "execution_count": 115,
   "id": "2fcb139e-c7b1-4742-ae8d-ded7263bf741",
   "metadata": {},
   "outputs": [
    {
     "data": {
      "text/plain": [
       "'engin'"
      ]
     },
     "execution_count": 115,
     "metadata": {},
     "output_type": "execute_result"
    }
   ],
   "source": [
    "stemming.stem('Engineering')"
   ]
  },
  {
   "cell_type": "markdown",
   "id": "ea3724b5-b4d4-49ba-9cfc-98444aa1dc2c",
   "metadata": {},
   "source": [
    "###RegexpStemmer class"
   ]
  },
  {
   "cell_type": "code",
   "execution_count": 118,
   "id": "78594f4f-185a-4a9d-9036-4a1fbc148b63",
   "metadata": {},
   "outputs": [],
   "source": [
    "from nltk.stem import RegexpStemmer"
   ]
  },
  {
   "cell_type": "code",
   "execution_count": 120,
   "id": "01d5fd33-5f96-42da-a70c-5cb812ae06d3",
   "metadata": {},
   "outputs": [],
   "source": [
    "reg=RegexpStemmer('ing$|s$|es$|able$',min=4)"
   ]
  },
  {
   "cell_type": "code",
   "execution_count": 122,
   "id": "54743614-4c21-4977-a86c-f2dfcadb15ac",
   "metadata": {},
   "outputs": [
    {
     "data": {
      "text/plain": [
       "'eat'"
      ]
     },
     "execution_count": 122,
     "metadata": {},
     "output_type": "execute_result"
    }
   ],
   "source": [
    "reg.stem('eating')"
   ]
  },
  {
   "cell_type": "code",
   "execution_count": 124,
   "id": "fdab3007-a686-4feb-91e0-87b2ecfd9926",
   "metadata": {},
   "outputs": [
    {
     "data": {
      "text/plain": [
       "'ingeat'"
      ]
     },
     "execution_count": 124,
     "metadata": {},
     "output_type": "execute_result"
    }
   ],
   "source": [
    "reg.stem('ingeating')"
   ]
  },
  {
   "cell_type": "markdown",
   "id": "8a0f7758-02a4-4c7e-9c8e-b1a49e9b401f",
   "metadata": {},
   "source": [
    "Snowball Stemmer-used in UK peoples words(more advanced than poter stemmer)"
   ]
  },
  {
   "cell_type": "code",
   "execution_count": 127,
   "id": "30e3a667-24b8-4853-b3a1-2d6a01816bc6",
   "metadata": {},
   "outputs": [],
   "source": [
    "from nltk.stem import SnowballStemmer"
   ]
  },
  {
   "cell_type": "code",
   "execution_count": 138,
   "id": "4da60929-e6d2-4398-b439-7119a6ac75d6",
   "metadata": {},
   "outputs": [],
   "source": [
    "snow=SnowballStemmer('english')"
   ]
  },
  {
   "cell_type": "code",
   "execution_count": 144,
   "id": "1d21949c-b9c3-45f6-972a-c7531a22c3fd",
   "metadata": {},
   "outputs": [
    {
     "name": "stdout",
     "output_type": "stream",
     "text": [
      "writting--->writ\n",
      "writes--->write\n",
      "eatting--->eat\n",
      "sleeps--->sleep\n",
      "helps--->help\n",
      "missing--->miss\n"
     ]
    }
   ],
   "source": [
    "for word in words:\n",
    "    print(word+\"--->\"+snow.stem(word))"
   ]
  },
  {
   "cell_type": "code",
   "execution_count": 133,
   "id": "13d93d76-636a-46d2-a169-a97fb6c29d83",
   "metadata": {},
   "outputs": [
    {
     "data": {
      "text/plain": [
       "('fairli', 'sportingli')"
      ]
     },
     "execution_count": 133,
     "metadata": {},
     "output_type": "execute_result"
    }
   ],
   "source": [
    "stemming.stem(\"fairly\"),stemming.stem(\"sportingly\")"
   ]
  },
  {
   "cell_type": "code",
   "execution_count": 142,
   "id": "ada28e79-bc93-4493-90de-fe60fe13e975",
   "metadata": {},
   "outputs": [
    {
     "data": {
      "text/plain": [
       "('fair', 'sport')"
      ]
     },
     "execution_count": 142,
     "metadata": {},
     "output_type": "execute_result"
    }
   ],
   "source": [
    "snow.stem(\"fairly\"),snow.stem(\"sportingly\")"
   ]
  },
  {
   "cell_type": "code",
   "execution_count": 146,
   "id": "99658877-4b97-48e5-a62c-1ad62311a1e1",
   "metadata": {},
   "outputs": [],
   "source": [
    "#Lemmatizer-called as a lemma or dictionary word"
   ]
  },
  {
   "cell_type": "code",
   "execution_count": 151,
   "id": "05eb898a-dd05-4b13-a3a4-d9602924f397",
   "metadata": {},
   "outputs": [],
   "source": [
    "from nltk.stem import WordNetLemmatizer"
   ]
  },
  {
   "cell_type": "code",
   "execution_count": 153,
   "id": "1ee4f28c-4f50-44b0-ae08-17f2da97e380",
   "metadata": {},
   "outputs": [],
   "source": [
    "lem=WordNetLemmatizer()"
   ]
  },
  {
   "cell_type": "code",
   "execution_count": 157,
   "id": "08ee2d43-c8e1-4375-b9d1-79fe322f17d0",
   "metadata": {},
   "outputs": [
    {
     "data": {
      "text/plain": [
       "'go'"
      ]
     },
     "execution_count": 157,
     "metadata": {},
     "output_type": "execute_result"
    }
   ],
   "source": [
    "'''\n",
    "POS-Noun-n\n",
    "verb-v\n",
    "adjective-a\n",
    "adverb-r\n",
    "'''\n",
    "lem.lemmatize(\"going\",pos='v')"
   ]
  },
  {
   "cell_type": "code",
   "execution_count": 163,
   "id": "e5b3749f-2f48-4c6d-b59c-fdb868e23a72",
   "metadata": {},
   "outputs": [
    {
     "name": "stdout",
     "output_type": "stream",
     "text": [
      "writting--->writting\n",
      "writes--->write\n",
      "eatting--->eatting\n",
      "sleeps--->sleep\n",
      "helps--->help\n",
      "missing--->miss\n"
     ]
    }
   ],
   "source": [
    "for word in words:\n",
    "    print(word+\"--->\"+lem.lemmatize(word,pos='v'))"
   ]
  },
  {
   "cell_type": "code",
   "execution_count": 165,
   "id": "51a7389a-bd68-4b54-8a37-78590b79a600",
   "metadata": {},
   "outputs": [
    {
     "name": "stdout",
     "output_type": "stream",
     "text": [
      "writting--->writting\n",
      "writes--->writes\n",
      "eatting--->eatting\n",
      "sleeps--->sleeps\n",
      "helps--->helps\n",
      "missing--->missing\n"
     ]
    }
   ],
   "source": [
    "for word in words:\n",
    "    print(word+\"--->\"+lem.lemmatize(word,pos='a'))"
   ]
  },
  {
   "cell_type": "code",
   "execution_count": 167,
   "id": "c836e793-3f6a-44c9-8f2c-8258c547ae17",
   "metadata": {},
   "outputs": [
    {
     "data": {
      "text/plain": [
       "'go'"
      ]
     },
     "execution_count": 167,
     "metadata": {},
     "output_type": "execute_result"
    }
   ],
   "source": [
    "lem.lemmatize(\"goes\",pos='v')"
   ]
  },
  {
   "cell_type": "code",
   "execution_count": 171,
   "id": "b1e24148-00d5-40b8-b346-f967993129a9",
   "metadata": {},
   "outputs": [
    {
     "data": {
      "text/plain": [
       "'fairly'"
      ]
     },
     "execution_count": 171,
     "metadata": {},
     "output_type": "execute_result"
    }
   ],
   "source": [
    "lem.lemmatize(\"fairly\",pos='v')"
   ]
  },
  {
   "cell_type": "markdown",
   "id": "573f12e7-8e82-4a49-b559-340318c0fed0",
   "metadata": {},
   "source": [
    "###StopWords"
   ]
  },
  {
   "cell_type": "code",
   "execution_count": 174,
   "id": "73ebf27f-30af-4854-99f7-5c5b330e16fa",
   "metadata": {},
   "outputs": [],
   "source": [
    "para=\"\"\"\n",
    "\"\"\""
   ]
  },
  {
   "cell_type": "code",
   "execution_count": 176,
   "id": "9615a793-ea17-4906-93de-076777c39614",
   "metadata": {},
   "outputs": [],
   "source": [
    "from nltk.stem import PorterStemmer"
   ]
  },
  {
   "cell_type": "code",
   "execution_count": 188,
   "id": "a028dba2-c2dc-4841-b92e-9217005e1e9e",
   "metadata": {},
   "outputs": [],
   "source": [
    "from nltk.corpus import stopwords"
   ]
  },
  {
   "cell_type": "code",
   "execution_count": 192,
   "id": "17eecf14-05c2-4392-808f-92be29afb94d",
   "metadata": {},
   "outputs": [
    {
     "ename": "NameError",
     "evalue": "name 'nltk' is not defined",
     "output_type": "error",
     "traceback": [
      "\u001b[1;31m---------------------------------------------------------------------------\u001b[0m",
      "\u001b[1;31mNameError\u001b[0m                                 Traceback (most recent call last)",
      "Cell \u001b[1;32mIn[192], line 1\u001b[0m\n\u001b[1;32m----> 1\u001b[0m nltk\u001b[38;5;241m.\u001b[39mdownload(\u001b[38;5;124m'\u001b[39m\u001b[38;5;124mstopwords\u001b[39m\u001b[38;5;124m'\u001b[39m)\n",
      "\u001b[1;31mNameError\u001b[0m: name 'nltk' is not defined"
     ]
    }
   ],
   "source": [
    "nltk.download('stopwords')"
   ]
  },
  {
   "cell_type": "code",
   "execution_count": 194,
   "id": "c3143e53-086b-4baf-9286-af2f446f6c96",
   "metadata": {},
   "outputs": [
    {
     "data": {
      "text/plain": [
       "179"
      ]
     },
     "execution_count": 194,
     "metadata": {},
     "output_type": "execute_result"
    }
   ],
   "source": [
    "len(stopwords.words('english'))"
   ]
  },
  {
   "cell_type": "code",
   "execution_count": null,
   "id": "643e4e43-36b0-4ee3-b27d-fac7eb6f0497",
   "metadata": {},
   "outputs": [],
   "source": []
  }
 ],
 "metadata": {
  "kernelspec": {
   "display_name": "Python [conda env:base] *",
   "language": "python",
   "name": "conda-base-py"
  },
  "language_info": {
   "codemirror_mode": {
    "name": "ipython",
    "version": 3
   },
   "file_extension": ".py",
   "mimetype": "text/x-python",
   "name": "python",
   "nbconvert_exporter": "python",
   "pygments_lexer": "ipython3",
   "version": "3.12.7"
  }
 },
 "nbformat": 4,
 "nbformat_minor": 5
}
